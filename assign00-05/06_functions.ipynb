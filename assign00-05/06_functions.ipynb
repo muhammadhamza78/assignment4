{
  "nbformat": 4,
  "nbformat_minor": 0,
  "metadata": {
    "colab": {
      "provenance": []
    },
    "kernelspec": {
      "name": "python3",
      "display_name": "Python 3"
    },
    "language_info": {
      "name": "python"
    }
  },
  "cells": [
    {
      "cell_type": "markdown",
      "source": [
        "# **00_averages**"
      ],
      "metadata": {
        "id": "ovhjJQyDDd9h"
      }
    },
    {
      "cell_type": "code",
      "execution_count": 1,
      "metadata": {
        "colab": {
          "base_uri": "https://localhost:8080/"
        },
        "id": "8eXD7IEyBj21",
        "outputId": "205e6b22-0f32-479d-ccb8-a39e9de452da"
      },
      "outputs": [
        {
          "output_type": "stream",
          "name": "stdout",
          "text": [
            "Enter the first number: 12\n",
            "Enter the second number: 2\n",
            "The average of 12.0 and 2.0 is: 7.0\n"
          ]
        }
      ],
      "source": [
        "def average(num1, num2):\n",
        "    return (num1 + num2) / 2\n",
        "\n",
        "def main():\n",
        "\n",
        "    num1 = float(input(\"Enter the first number: \"))\n",
        "    num2 = float(input(\"Enter the second number: \"))\n",
        "\n",
        "    result = average(num1, num2)\n",
        "    print(f\"The average of {num1} and {num2} is: {result}\")\n",
        "\n",
        "\n",
        "if __name__ == '__main__':\n",
        "    main()\n"
      ]
    },
    {
      "cell_type": "markdown",
      "source": [
        "# **01_chaotic_counting**"
      ],
      "metadata": {
        "id": "DlW0OZxEDkEw"
      }
    },
    {
      "cell_type": "code",
      "source": [
        "import random\n",
        "\n",
        "DONE_LIKELIHOOD = 0.3\n",
        "def done():\n",
        "    return random.random() < DONE_LIKELIHOOD\n",
        "\n",
        "def chaotic_counting():\n",
        "    for i in range(1, 11):\n",
        "        if done():\n",
        "            return\n",
        "        print(i, end=\" \")\n",
        "\n",
        "def main():\n",
        "    print(\"I'm going to count until 10 or until I feel like stopping, whichever comes first.\")\n",
        "    chaotic_counting()\n",
        "    print(\"\\nI'm done.\")\n",
        "\n",
        "\n",
        "if __name__ == '__main__':\n",
        "    main()\n"
      ],
      "metadata": {
        "colab": {
          "base_uri": "https://localhost:8080/"
        },
        "id": "lfS51jrPDlso",
        "outputId": "dadf2cd6-c212-4665-a5b5-fd7a5170d8b9"
      },
      "execution_count": 2,
      "outputs": [
        {
          "output_type": "stream",
          "name": "stdout",
          "text": [
            "I'm going to count until 10 or until I feel like stopping, whichever comes first.\n",
            "\n",
            "I'm done.\n"
          ]
        }
      ]
    },
    {
      "cell_type": "markdown",
      "source": [
        "# **02_count_even**"
      ],
      "metadata": {
        "id": "J10RSD0hD_-Y"
      }
    },
    {
      "cell_type": "code",
      "source": [
        "def count_even(lst):\n",
        "\n",
        "    even_count = 0\n",
        "    for number in lst:\n",
        "        if number % 2 == 0:\n",
        "            even_count += 1\n",
        "    print(f\"The number of even numbers is: {even_count}\")\n",
        "\n",
        "def main():\n",
        "\n",
        "    numbers = []\n",
        "\n",
        "    while True:\n",
        "        user_input = input(\"Enter an integer or press enter to stop: \")\n",
        "\n",
        "        if user_input == \"\":\n",
        "            break\n",
        "\n",
        "        try:\n",
        "            number = int(user_input)\n",
        "            numbers.append(number)\n",
        "        except ValueError:\n",
        "            print(\"Please enter a valid integer.\")\n",
        "\n",
        "\n",
        "    count_even(numbers)\n",
        "\n",
        "\n",
        "if __name__ == '__main__':\n",
        "    main()\n"
      ],
      "metadata": {
        "colab": {
          "base_uri": "https://localhost:8080/"
        },
        "id": "pLhAY6hgEBjX",
        "outputId": "3046507f-f49f-4cf3-97ab-5984e96a5cbd"
      },
      "execution_count": 4,
      "outputs": [
        {
          "output_type": "stream",
          "name": "stdout",
          "text": [
            "Enter an integer or press enter to stop: 1\n",
            "Enter an integer or press enter to stop: 2\n",
            "Enter an integer or press enter to stop: 3\n",
            "Enter an integer or press enter to stop: 4\n",
            "Enter an integer or press enter to stop: \n",
            "The number of even numbers is: 2\n"
          ]
        }
      ]
    },
    {
      "cell_type": "markdown",
      "source": [
        "# **03_double**"
      ],
      "metadata": {
        "id": "oYJXuc75EhCv"
      }
    },
    {
      "cell_type": "code",
      "source": [
        "def double(num):\n",
        "    return num * 2\n",
        "\n",
        "def main():\n",
        "    number = float(input(\"Enter a number: \"))\n",
        "    result = double(number)\n",
        "    print(f\"Double that is {result}\")\n",
        "\n",
        "if __name__ == '__main__':\n",
        "    main()\n"
      ],
      "metadata": {
        "colab": {
          "base_uri": "https://localhost:8080/"
        },
        "id": "ZZJDo3TRElmP",
        "outputId": "bc0cc8c5-6131-419f-dc66-922c90bdaef0"
      },
      "execution_count": 5,
      "outputs": [
        {
          "output_type": "stream",
          "name": "stdout",
          "text": [
            "Enter a number: 5\n",
            "Double that is 10.0\n"
          ]
        }
      ]
    },
    {
      "cell_type": "markdown",
      "source": [
        "# **05_get_name**"
      ],
      "metadata": {
        "id": "8ciyee00E09H"
      }
    },
    {
      "cell_type": "code",
      "source": [
        "def get_name(name):\n",
        "    return name\n",
        "\n",
        "def main():\n",
        "    user_input = input(\"Enter your for greetings\")\n",
        "    result = get_name(user_input)\n",
        "    print(f\"Hello Dear, {result} 🤠\")\n",
        "\n",
        "main()"
      ],
      "metadata": {
        "colab": {
          "base_uri": "https://localhost:8080/"
        },
        "id": "KLzoEFEvE2hm",
        "outputId": "f67abbbd-0e1d-40df-8564-37c6eb01c7f2"
      },
      "execution_count": 7,
      "outputs": [
        {
          "output_type": "stream",
          "name": "stdout",
          "text": [
            "Enter your for greetingsHamza\n",
            "Hello Dear, Hamza 🤠\n"
          ]
        }
      ]
    },
    {
      "cell_type": "markdown",
      "source": [
        "# **05_is_odd**"
      ],
      "metadata": {
        "id": "4AHitsNNFZ6-"
      }
    },
    {
      "cell_type": "code",
      "source": [
        "def main():\n",
        "    for i in range(11):\n",
        "        if i % 2 == 0:\n",
        "            print(f\"{i} is Even\", end=\", \")\n",
        "        else:\n",
        "            print(f\"{i} is Odd\", end=\", \")\n",
        "\n",
        "main()"
      ],
      "metadata": {
        "colab": {
          "base_uri": "https://localhost:8080/"
        },
        "id": "IMUzMYBlFb6G",
        "outputId": "98a07021-75a8-41fa-c270-0d3872ad2319"
      },
      "execution_count": 8,
      "outputs": [
        {
          "output_type": "stream",
          "name": "stdout",
          "text": [
            "0 is Even, 1 is Odd, 2 is Even, 3 is Odd, 4 is Even, 5 is Odd, 6 is Even, 7 is Odd, 8 is Even, 9 is Odd, 10 is Even, "
          ]
        }
      ]
    },
    {
      "cell_type": "markdown",
      "source": [
        "# **06_print_divisor**"
      ],
      "metadata": {
        "id": "utMcrf0gFh9m"
      }
    },
    {
      "cell_type": "code",
      "source": [
        "def divisor(number):\n",
        "    print(f\"Here are the Divisors of your number: {number}\")\n",
        "    for i in range(1 , number + 1):\n",
        "        if number % i == 0:\n",
        "            print(i, end=\", \")\n",
        "\n",
        "def main():\n",
        "    user_input = int(input(\"Enter only a numbers here: \"))\n",
        "    divisor(user_input)\n",
        "\n",
        "main()"
      ],
      "metadata": {
        "colab": {
          "base_uri": "https://localhost:8080/"
        },
        "id": "k--uZcykFj7G",
        "outputId": "f0e49aa7-c003-49e9-932b-84e88afee9a6"
      },
      "execution_count": 10,
      "outputs": [
        {
          "output_type": "stream",
          "name": "stdout",
          "text": [
            "Enter only a numbers here: 50\n",
            "Here are the Divisors of your number: 50\n",
            "1, 2, 5, 10, 25, 50, "
          ]
        }
      ]
    },
    {
      "cell_type": "markdown",
      "source": [
        "# **07_print_multiple**"
      ],
      "metadata": {
        "id": "9ZHiC-2CFwo-"
      }
    },
    {
      "cell_type": "code",
      "source": [
        "def print_multiple(message , repeate):\n",
        "    for i in range(repeate):\n",
        "        print(message, end=\", \")\n",
        "\n",
        "def main():\n",
        "    message = input(\"Enter your message\")\n",
        "    repeat = int(input(\"How many time you want to repeat this message? \"))\n",
        "    print_multiple(message, repeat)\n",
        "\n",
        "main()"
      ],
      "metadata": {
        "colab": {
          "base_uri": "https://localhost:8080/"
        },
        "id": "9ZfhICVgFzjG",
        "outputId": "fb9a7c76-966a-424a-d98f-3f7bfe1250e6"
      },
      "execution_count": 11,
      "outputs": [
        {
          "output_type": "stream",
          "name": "stdout",
          "text": [
            "Enter your messageHello\n",
            "How many time you want to repeat this message? 5\n",
            "Hello, Hello, Hello, Hello, Hello, "
          ]
        }
      ]
    },
    {
      "cell_type": "markdown",
      "source": [
        "# **08_sentence_generator**"
      ],
      "metadata": {
        "id": "N_FnzPqbG8mO"
      }
    },
    {
      "cell_type": "code",
      "source": [
        "def make_sentence(word, part_of_speech):\n",
        "    if part_of_speech == 0:\n",
        "        print(f\"I am excited to add this {word} to my vast collection of them!\")\n",
        "    elif part_of_speech == 1:\n",
        "        print(f\"It's so nice outside today it makes me want to {word}!\")\n",
        "    elif part_of_speech == 2:\n",
        "        print(f\"Looking out my window, the sky is big and {word}!\")\n",
        "    else:\n",
        "        print(\"Invalid part of speech. Please enter 0 for noun, 1 for verb, or 2 for adjective.\")\n",
        "\n",
        "def main():\n",
        "    word = input(\"Please type a noun, verb, or adjective: \")\n",
        "    part = input(\"Is this a noun, verb, or adjective? Type 0 for noun, 1 for verb, 2 for adjective: \")\n",
        "\n",
        "    try:\n",
        "        part_of_speech = int(part)\n",
        "        make_sentence(word, part_of_speech)\n",
        "    except ValueError:\n",
        "        print(\"Please enter a valid number (0, 1, or 2).\")\n",
        "\n",
        "if __name__ == '__main__':\n",
        "    main()\n"
      ],
      "metadata": {
        "colab": {
          "base_uri": "https://localhost:8080/"
        },
        "id": "Xkgnm3XbG-V1",
        "outputId": "19b91274-edb7-4213-9a2f-b0501b23fac7"
      },
      "execution_count": 12,
      "outputs": [
        {
          "output_type": "stream",
          "name": "stdout",
          "text": [
            "Please type a noun, verb, or adjective: apple\n",
            "Is this a noun, verb, or adjective? Type 0 for noun, 1 for verb, 2 for adjective: 0\n",
            "I am excited to add this apple to my vast collection of them!\n"
          ]
        }
      ]
    },
    {
      "cell_type": "markdown",
      "source": [
        "# **09_print_ones_digit**"
      ],
      "metadata": {
        "id": "TmNjFpEbHsvV"
      }
    },
    {
      "cell_type": "code",
      "source": [
        "def print_ones_digit(num):\n",
        "    print(f\"The ones digit of your number is: {num % 10}\")\n",
        "\n",
        "def main():\n",
        "    user_input = int(input(\"Enter a number\"))\n",
        "    print_ones_digit(user_input)\n",
        "\n",
        "main()"
      ],
      "metadata": {
        "colab": {
          "base_uri": "https://localhost:8080/"
        },
        "id": "qL57slfaHuq8",
        "outputId": "c928c185-9ca5-4c37-e45f-ceae20af6daf"
      },
      "execution_count": 14,
      "outputs": [
        {
          "output_type": "stream",
          "name": "stdout",
          "text": [
            "Enter a number88\n",
            "The ones digit of your number is: 8\n"
          ]
        }
      ]
    }
  ]
}