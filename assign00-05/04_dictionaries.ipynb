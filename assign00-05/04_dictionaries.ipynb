{
  "nbformat": 4,
  "nbformat_minor": 0,
  "metadata": {
    "colab": {
      "provenance": []
    },
    "kernelspec": {
      "name": "python3",
      "display_name": "Python 3"
    },
    "language_info": {
      "name": "python"
    }
  },
  "cells": [
    {
      "cell_type": "markdown",
      "source": [
        "# **00_count_nums**"
      ],
      "metadata": {
        "id": "G23kJlcV7bSv"
      }
    },
    {
      "cell_type": "code",
      "source": [
        "def main():\n",
        "    counts = {}\n",
        "\n",
        "    while True:\n",
        "        number = input(\"Enter a number (or press Enter to finish): \")\n",
        "\n",
        "        if number.strip() == \"\":\n",
        "            break\n",
        "\n",
        "        try:\n",
        "            number = int(number)\n",
        "            if number in counts:\n",
        "                counts[number] += 1\n",
        "            else:\n",
        "                counts[number] = 1\n",
        "        except ValueError:\n",
        "            print(\"Please enter a valid number.\")\n",
        "\n",
        "    for number, count in counts.items():\n",
        "        print(f\"{number} appears {count} time{'s' if count > 1 else ''}.\")\n",
        "\n",
        "\n",
        "if __name__ == '__main__':\n",
        "    main()\n"
      ],
      "metadata": {
        "colab": {
          "base_uri": "https://localhost:8080/"
        },
        "id": "_GCE39xc7ls_",
        "outputId": "2121fabc-23cb-4245-9a7c-37f193891169"
      },
      "execution_count": 1,
      "outputs": [
        {
          "output_type": "stream",
          "name": "stdout",
          "text": [
            "Enter a number (or press Enter to finish): 5\n",
            "Enter a number (or press Enter to finish): 2\n",
            "Enter a number (or press Enter to finish): 2\n",
            "Enter a number (or press Enter to finish): 1\n",
            "Enter a number (or press Enter to finish): 4\n",
            "Enter a number (or press Enter to finish): \n",
            "5 appears 1 time.\n",
            "2 appears 2 times.\n",
            "1 appears 1 time.\n",
            "4 appears 1 time.\n"
          ]
        }
      ]
    },
    {
      "cell_type": "markdown",
      "source": [
        "# **01_phonebook**"
      ],
      "metadata": {
        "id": "OsgHewIF8TTP"
      }
    },
    {
      "cell_type": "code",
      "source": [
        "def main():\n",
        "    phonebook = {}\n",
        "\n",
        "    while True:\n",
        "        name = input(\"Enter a name (or press Enter to finish): \")\n",
        "        if name.strip() == \"\":\n",
        "            break\n",
        "\n",
        "        phone = input(f\"Enter a phone number for {name}: \")\n",
        "        phonebook[name] = phone\n",
        "\n",
        "    print(\"\\nPhonebook:\")\n",
        "    for name, phone in phonebook.items():\n",
        "        print(f\"{name}: {phone}\")\n",
        "\n",
        "if __name__ == '__main__':\n",
        "    main()\n"
      ],
      "metadata": {
        "colab": {
          "base_uri": "https://localhost:8080/"
        },
        "id": "Nu3y-gqA8XVv",
        "outputId": "7ef4809f-5d29-43a4-c1de-456dbd35fc03"
      },
      "execution_count": 2,
      "outputs": [
        {
          "output_type": "stream",
          "name": "stdout",
          "text": [
            "Enter a name (or press Enter to finish): Hamza\n",
            "Enter a phone number for Hamza: 03352433455\n",
            "Enter a name (or press Enter to finish): Ayan\n",
            "Enter a phone number for Ayan: 01234\n",
            "Enter a name (or press Enter to finish): \n",
            "\n",
            "Phonebook:\n",
            "Hamza: 03352433455\n",
            "Ayan: 01234\n"
          ]
        }
      ]
    },
    {
      "cell_type": "markdown",
      "source": [
        "# **02_pop_up_shop**"
      ],
      "metadata": {
        "id": "TqojWC2e8vfO"
      }
    },
    {
      "cell_type": "code",
      "source": [
        "def main():\n",
        "\n",
        "    fruit_prices = {\n",
        "        'apple': 5.0,\n",
        "        'durian': 30.0,\n",
        "        'jackfruit': 15.0,\n",
        "        'kiwi': 3.5,\n",
        "        'rambutan': 6.0,\n",
        "        'mango': 10.0\n",
        "    }\n",
        "\n",
        "    total_cost = 0.0\n",
        "\n",
        "    for fruit, price in fruit_prices.items():\n",
        "        try:\n",
        "            quantity = int(input(f\"How many ({fruit}) do you want?: \"))\n",
        "            total_cost += quantity * price\n",
        "        except ValueError:\n",
        "            print(f\"Invalid input for {fruit}. Assuming 0.\")\n",
        "\n",
        "    print(f\"\\nYour total is ${total_cost:.2f}\")\n",
        "\n",
        "\n",
        "if __name__ == '__main__':\n",
        "    main()\n"
      ],
      "metadata": {
        "colab": {
          "base_uri": "https://localhost:8080/"
        },
        "id": "DRa_75es8xTu",
        "outputId": "c32e8bed-6f11-4aa3-d549-9186fbd83cbf"
      },
      "execution_count": 4,
      "outputs": [
        {
          "output_type": "stream",
          "name": "stdout",
          "text": [
            "How many (apple) do you want?: 10\n",
            "How many (durian) do you want?: 30\n",
            "How many (jackfruit) do you want?: 50\n",
            "How many (kiwi) do you want?: 70\n",
            "How many (rambutan) do you want?: 90\n",
            "How many (mango) do you want?: 10\n",
            "\n",
            "Your total is $2585.00\n"
          ]
        }
      ]
    },
    {
      "cell_type": "markdown",
      "source": [
        "# **03_powerful_passwords**"
      ],
      "metadata": {
        "id": "sMDQPscT9fVW"
      }
    },
    {
      "cell_type": "code",
      "source": [
        "import hashlib\n",
        "\n",
        "def hash_password(password):\n",
        "    return hashlib.sha256(password.encode()).hexdigest()\n",
        "\n",
        "def login(email, password_to_check, stored_logins):\n",
        "\n",
        "    hashed_input = hash_password(password_to_check)\n",
        "\n",
        "    return stored_logins.get(email) == hashed_input\n",
        "\n",
        "def main():\n",
        "\n",
        "    stored_logins = {\n",
        "        \"user@example.com\": hash_password(\"secure123\"),\n",
        "        \"admin@website.com\": hash_password(\"adminpass\"),\n",
        "        \"hello@world.com\": hash_password(\"helloworld\")\n",
        "    }\n",
        "\n",
        "    email = input(\"Enter your email: \")\n",
        "    password = input(\"Enter your password: \")\n",
        "\n",
        "    if login(email, password, stored_logins):\n",
        "        print(\"Login successful!\")\n",
        "    else:\n",
        "        print(\"Login failed. Invalid email or password.\")\n",
        "\n",
        "\n",
        "if __name__ == '__main__':\n",
        "    main()\n"
      ],
      "metadata": {
        "colab": {
          "base_uri": "https://localhost:8080/"
        },
        "id": "qG3PjiIW9g9V",
        "outputId": "ed2ee0a6-14f6-4c40-c3e8-de4a1942e996"
      },
      "execution_count": 6,
      "outputs": [
        {
          "output_type": "stream",
          "name": "stdout",
          "text": [
            "Enter your email: hello@world.com\n",
            "Enter your password: helloworld\n",
            "Login successful!\n"
          ]
        }
      ]
    }
  ]
}