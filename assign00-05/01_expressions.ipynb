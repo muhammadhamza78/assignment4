{
  "nbformat": 4,
  "nbformat_minor": 0,
  "metadata": {
    "colab": {
      "provenance": []
    },
    "kernelspec": {
      "name": "python3",
      "display_name": "Python 3"
    },
    "language_info": {
      "name": "python"
    }
  },
  "cells": [
    {
      "cell_type": "markdown",
      "source": [
        "# **01_dicesimulator**"
      ],
      "metadata": {
        "id": "qD69Du7b_qrk"
      }
    },
    {
      "cell_type": "code",
      "execution_count": 6,
      "metadata": {
        "colab": {
          "base_uri": "https://localhost:8080/"
        },
        "id": "GQYLiQrf_Cen",
        "outputId": "5901ecb8-10bd-4dc3-e425-33ec5acd8036"
      },
      "outputs": [
        {
          "output_type": "stream",
          "name": "stdout",
          "text": [
            "die1 in main() starts as: 10\n",
            "Total of two dice: 9\n",
            "Total of two dice: 7\n",
            "Total of two dice: 7\n",
            "die1 in main() is: 10\n"
          ]
        }
      ],
      "source": [
        "import random\n",
        "\n",
        "NUM_SIDES = 6\n",
        "\n",
        "def roll_dice():\n",
        "    die1 = random.randint(1, NUM_SIDES)\n",
        "    die2 = random.randint(1, NUM_SIDES)\n",
        "    total = die1 + die2\n",
        "    print(\"Total of two dice:\", total)\n",
        "\n",
        "def main():\n",
        "    die1 = 10\n",
        "    print(\"die1 in main() starts as:\", die1)\n",
        "    roll_dice()\n",
        "    roll_dice()\n",
        "    roll_dice()\n",
        "    print(\"die1 in main() is:\", die1)\n",
        "\n",
        "if __name__ == '__main__':\n",
        "    main()\n"
      ]
    },
    {
      "cell_type": "markdown",
      "source": [
        "# **02_e=mc2**"
      ],
      "metadata": {
        "id": "wtDrlWd3_xzs"
      }
    },
    {
      "cell_type": "code",
      "source": [
        "C = 2997824\n",
        "\n",
        "m = float(input(\"Enter your mass in KG\"))\n",
        "\n",
        "E = m * C ** 2\n",
        "\n",
        "print(f\"m = {m} kg\")\n",
        "print(f\"C = {C} m/s\")\n",
        "print(f\"\\n{E} joules of energy!\")"
      ],
      "metadata": {
        "colab": {
          "base_uri": "https://localhost:8080/"
        },
        "id": "WvwUTfdaAYZb",
        "outputId": "f89dc661-25c8-4e3f-d448-40ee784bd313"
      },
      "execution_count": 9,
      "outputs": [
        {
          "output_type": "stream",
          "name": "stdout",
          "text": [
            "Enter your mass in KG5\n",
            "m = 5.0 kg\n",
            "C = 2997824 m/s\n",
            "\n",
            "44934743674880.0 joules of energy!\n"
          ]
        }
      ]
    },
    {
      "cell_type": "markdown",
      "source": [
        "# **03_feet_to_inches**"
      ],
      "metadata": {
        "id": "3jW0oJvCAu8M"
      }
    },
    {
      "cell_type": "code",
      "source": [
        "INCHES_IN_FOOT = 12\n",
        "\n",
        "def main():\n",
        "\n",
        "    feet = float(input(\"Enter number of feet: \"))\n",
        "\n",
        "    inches = feet * INCHES_IN_FOOT\n",
        "\n",
        "    print(\"That is\", inches, \"inches!\")\n",
        "\n",
        "if __name__ == '__main__':\n",
        "    main()"
      ],
      "metadata": {
        "colab": {
          "base_uri": "https://localhost:8080/"
        },
        "id": "oPUFqc0lAzwT",
        "outputId": "5dc3aeb7-edd4-41ee-e180-444e52a0aa20"
      },
      "execution_count": 10,
      "outputs": [
        {
          "output_type": "stream",
          "name": "stdout",
          "text": [
            "Enter number of feet: 10\n",
            "That is 120.0 inches!\n"
          ]
        }
      ]
    },
    {
      "cell_type": "markdown",
      "source": [
        "# **04_pythagorean_theorem**"
      ],
      "metadata": {
        "id": "3wenl0TfBLnc"
      }
    },
    {
      "cell_type": "code",
      "source": [
        "import math\n",
        "\n",
        "def main():\n",
        "\n",
        "    ab = float(input(\"Enter the length of the first side (AB): \"))\n",
        "    ac = float(input(\"Enter the length of the second side (AC): \"))\n",
        "\n",
        "    bc = math.sqrt(ab**2 + ac**2)\n",
        "\n",
        "    print(f\"The length of BC (the hypotenuse) is: {bc:.2f}\")\n",
        "\n",
        "if __name__ == \"__main__\":\n",
        "    main()"
      ],
      "metadata": {
        "colab": {
          "base_uri": "https://localhost:8080/"
        },
        "id": "uc_kIlSrBP18",
        "outputId": "e0d0ee37-a7b2-41dd-a221-2ce64eefb46b"
      },
      "execution_count": 11,
      "outputs": [
        {
          "output_type": "stream",
          "name": "stdout",
          "text": [
            "Enter the length of the first side (AB): 10\n",
            "Enter the length of the second side (AC): 15\n",
            "The length of BC (the hypotenuse) is: 18.03\n"
          ]
        }
      ]
    },
    {
      "cell_type": "markdown",
      "source": [
        "# **05_remainder_division**"
      ],
      "metadata": {
        "id": "8EY1Wn6SBgls"
      }
    },
    {
      "cell_type": "code",
      "source": [
        "def main():\n",
        "\n",
        "    dividend = int(input(\"Please enter an integer to be divided: \"))\n",
        "    divisor = int(input(\"Please enter an integer to divide by: \"))\n",
        "\n",
        "    quotient = dividend // divisor  # Integer division\n",
        "    remainder = dividend % divisor  # Modulo to find the remainder\n",
        "\n",
        "\n",
        "    print(f\"The result of this division is {quotient} with a remainder of {remainder}\")\n",
        "\n",
        "if __name__ == '__main__':\n",
        "    main()"
      ],
      "metadata": {
        "colab": {
          "base_uri": "https://localhost:8080/"
        },
        "id": "lPuNMs8YBiaE",
        "outputId": "c4bcfbb4-05b4-4142-e457-6e986176b087"
      },
      "execution_count": 12,
      "outputs": [
        {
          "output_type": "stream",
          "name": "stdout",
          "text": [
            "Please enter an integer to be divided: 16\n",
            "Please enter an integer to divide by: 4\n",
            "The result of this division is 4 with a remainder of 0\n"
          ]
        }
      ]
    },
    {
      "cell_type": "markdown",
      "source": [
        "# **06_rolldice**"
      ],
      "metadata": {
        "id": "0EY99JnsByAU"
      }
    },
    {
      "cell_type": "code",
      "source": [
        "import random\n",
        "\n",
        "DICE_NUM = 6\n",
        "def main():\n",
        "\n",
        "    die1 = random.randint(1 , DICE_NUM)\n",
        "    die2 = random.randint(1 , DICE_NUM)\n",
        "\n",
        "    total = die1 + die2\n",
        "\n",
        "    print(f\"Dice 1 = {die1}\")\n",
        "    print(f\"Dice 2 = {die2}\")\n",
        "    print(f\"Total = {total}\")\n",
        "\n",
        "if __name__ == \"__main__\":\n",
        "    main()"
      ],
      "metadata": {
        "colab": {
          "base_uri": "https://localhost:8080/"
        },
        "id": "hUc80gnsB-NM",
        "outputId": "1d92ec20-98be-4742-e6a1-40c26173369b"
      },
      "execution_count": 14,
      "outputs": [
        {
          "output_type": "stream",
          "name": "stdout",
          "text": [
            "Dice 1 = 5\n",
            "Dice 2 = 6\n",
            "Total = 11\n"
          ]
        }
      ]
    },
    {
      "cell_type": "markdown",
      "source": [
        "# **06_seconds_in_year**"
      ],
      "metadata": {
        "id": "LFzTqvA3CDG0"
      }
    },
    {
      "cell_type": "code",
      "source": [
        "days_per_year = 365\n",
        "hours_per_day = 24\n",
        "minutes_per_hour = 60\n",
        "second_per_minute = 60\n",
        "\n",
        "def main():\n",
        "\n",
        "    seconds_in_year = days_per_year * hours_per_day * minutes_per_hour * second_per_minute\n",
        "\n",
        "    print(f\"There are {seconds_in_year} seconds in a year\")\n",
        "\n",
        "\n",
        "if __name__ == \"__main__\":\n",
        "    main()"
      ],
      "metadata": {
        "colab": {
          "base_uri": "https://localhost:8080/"
        },
        "id": "vdRqSWTsCEl0",
        "outputId": "10afc09e-4fba-4b74-8a9b-b6f61686ed29"
      },
      "execution_count": 15,
      "outputs": [
        {
          "output_type": "stream",
          "name": "stdout",
          "text": [
            "There are 31536000 seconds in a year\n"
          ]
        }
      ]
    },
    {
      "cell_type": "markdown",
      "source": [
        "# **07_tiny_mad_lib**"
      ],
      "metadata": {
        "id": "oCuteWdWCah8"
      }
    },
    {
      "cell_type": "code",
      "source": [
        "def main():\n",
        "    adjective = input(\"Enter an adjective: \")\n",
        "    noun = input(\"Enter a noun: \")\n",
        "    verb = input(\"Enter a verb: \")\n",
        "\n",
        "    sentence = f\"The {adjective} {noun} decided to {verb} all day long!\"\n",
        "    print(sentence)\n",
        "\n",
        "if __name__ == \"__main__\":\n",
        "    main()"
      ],
      "metadata": {
        "colab": {
          "base_uri": "https://localhost:8080/"
        },
        "id": "cesheponCcTM",
        "outputId": "d57a2364-3dde-441e-c53a-0a71fa140f5c"
      },
      "execution_count": 16,
      "outputs": [
        {
          "output_type": "stream",
          "name": "stdout",
          "text": [
            "Enter an adjective: Green\n",
            "Enter a noun: parrot\n",
            "Enter a verb: Fly\n",
            "The Green parrot decided to Fly all day long!\n"
          ]
        }
      ]
    }
  ]
}