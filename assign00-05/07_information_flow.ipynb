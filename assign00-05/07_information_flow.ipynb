{
  "nbformat": 4,
  "nbformat_minor": 0,
  "metadata": {
    "colab": {
      "provenance": []
    },
    "kernelspec": {
      "name": "python3",
      "display_name": "Python 3"
    },
    "language_info": {
      "name": "python"
    }
  },
  "cells": [
    {
      "cell_type": "markdown",
      "source": [
        "# **00_choosing_returns**"
      ],
      "metadata": {
        "id": "uzMxd15WJCYd"
      }
    },
    {
      "cell_type": "code",
      "source": [
        "ADULT_AGE = 18\n",
        "\n",
        "def is_adult(age):\n",
        "    return age >= ADULT_AGE\n",
        "\n",
        "def main():\n",
        "    age_input = input(\"How old is this person?: \")\n",
        "    try:\n",
        "        age = int(age_input)\n",
        "        print(is_adult(age))\n",
        "    except ValueError:\n",
        "        print(\"Please enter a valid integer for age.\")\n",
        "\n",
        "if __name__ == '__main__':\n",
        "    main()\n"
      ],
      "metadata": {
        "colab": {
          "base_uri": "https://localhost:8080/"
        },
        "id": "VbKwEk6wJf8K",
        "outputId": "4e2f9f2e-0fb2-4f2f-9811-f45d0591a18b"
      },
      "execution_count": 3,
      "outputs": [
        {
          "output_type": "stream",
          "name": "stdout",
          "text": [
            "How old is this person?: 20\n",
            "True\n"
          ]
        }
      ]
    },
    {
      "cell_type": "markdown",
      "source": [
        "# **01_greetings**"
      ],
      "metadata": {
        "id": "u6kLKZjHJEtD"
      }
    },
    {
      "cell_type": "code",
      "source": [
        "def greet(name):\n",
        "    print(f\"Greetings! {name}\")\n",
        "\n",
        "def main():\n",
        "    user_input = str(input(\"Enter your Name here: \"))\n",
        "    greet(user_input)\n",
        "\n",
        "main()"
      ],
      "metadata": {
        "colab": {
          "base_uri": "https://localhost:8080/"
        },
        "id": "xs47Yg9yJzb6",
        "outputId": "45145e2d-7466-4fb1-b834-e6ee5d80e149"
      },
      "execution_count": 1,
      "outputs": [
        {
          "output_type": "stream",
          "name": "stdout",
          "text": [
            "Enter your Name here: Hamza\n",
            "Greetings! Hamza\n"
          ]
        }
      ]
    },
    {
      "cell_type": "markdown",
      "source": [
        "# **02_in_range**"
      ],
      "metadata": {
        "id": "Px4zLKolJJB6"
      }
    },
    {
      "cell_type": "code",
      "source": [
        "def in_range(n, low, high):\n",
        "    \"\"\" Returns True if n is between low and high, inclusive. \"\"\"\n",
        "    return low <= n <= high\n",
        "\n",
        "def main():\n",
        "\n",
        "    n = int(input(\"Enter a number: \"))\n",
        "    low = int(input(\"Enter the low end of the range: \"))\n",
        "    high = int(input(\"Enter the high end of the range: \"))\n",
        "\n",
        "    if in_range(n, low, high):\n",
        "        print(f\"{n} is within the range [{low}, {high}].\")\n",
        "    else:\n",
        "        print(f\"{n} is NOT within the range [{low}, {high}].\")\n",
        "\n",
        "if __name__ == '__main__':\n",
        "    main()\n"
      ],
      "metadata": {
        "colab": {
          "base_uri": "https://localhost:8080/"
        },
        "id": "dx0jX2i6J0PK",
        "outputId": "e029700e-a414-4e58-8b31-ed0aa2a8329d"
      },
      "execution_count": 6,
      "outputs": [
        {
          "output_type": "stream",
          "name": "stdout",
          "text": [
            "Enter a number: 5\n",
            "Enter the low end of the range: 20\n",
            "Enter the high end of the range: 2\n",
            "5 is NOT within the range [20, 2].\n"
          ]
        }
      ]
    },
    {
      "cell_type": "markdown",
      "source": [
        "# **03_in_stock**"
      ],
      "metadata": {
        "id": "PlO3iGYdJMnT"
      }
    },
    {
      "cell_type": "code",
      "source": [
        "# Sample inventory for demonstration\n",
        "inventory = {\n",
        "    \"apple\": 50,\n",
        "    \"banana\": 120,\n",
        "    \"pear\": 1000,\n",
        "    \"mango\": 30\n",
        "}\n",
        "\n",
        "def num_in_stock(fruit):\n",
        "    return inventory.get(fruit.lower(), 0)\n",
        "\n",
        "def main():\n",
        "    fruit = input(\"Enter a fruit: \").strip().lower()\n",
        "    stock = num_in_stock(fruit)\n",
        "\n",
        "    if stock > 0:\n",
        "        print(\"This fruit is in stock! Here is how many:\")\n",
        "        print(stock)\n",
        "    else:\n",
        "        print(\"This fruit is not in stock.\")\n",
        "\n",
        "# This provided line is required at the end of\n",
        "# Python file to call the main() function.\n",
        "if __name__ == '__main__':\n",
        "    main()\n",
        "\n"
      ],
      "metadata": {
        "colab": {
          "base_uri": "https://localhost:8080/"
        },
        "id": "iEj6CXr7J0uq",
        "outputId": "b866f8dd-3f9a-41b5-bcb0-8841c3ad5fb8"
      },
      "execution_count": 9,
      "outputs": [
        {
          "output_type": "stream",
          "name": "stdout",
          "text": [
            "Enter a fruit: apple\n",
            "This fruit is in stock! Here is how many:\n",
            "50\n"
          ]
        }
      ]
    },
    {
      "cell_type": "markdown",
      "source": [
        "# **04_multiple_returns**"
      ],
      "metadata": {
        "id": "pQj3q3yLJP-i"
      }
    },
    {
      "cell_type": "code",
      "source": [
        "def get_user_data():\n",
        "    first_name = input(\"What is your first name?: \")\n",
        "    last_name = input(\"What is your last name?: \")\n",
        "    email = input(\"What is your email address?: \")\n",
        "    return first_name, last_name, email\n",
        "\n",
        "def main():\n",
        "    user_data = get_user_data()\n",
        "    print(\"Received the following user data:\", user_data)\n",
        "\n",
        "if __name__ == '__main__':\n",
        "    main()\n"
      ],
      "metadata": {
        "colab": {
          "base_uri": "https://localhost:8080/"
        },
        "id": "4eDlByWcJ1Na",
        "outputId": "b37c8641-b173-4e5a-e11e-74eb227540e2"
      },
      "execution_count": 10,
      "outputs": [
        {
          "output_type": "stream",
          "name": "stdout",
          "text": [
            "What is your first name?: Muhammad\n",
            "What is your last name?: Hamza\n",
            "What is your email address?: itshamzaaslam@gmail.com\n",
            "Received the following user data: ('Muhammad', 'Hamza', 'itshamzaaslam@gmail.com')\n"
          ]
        }
      ]
    },
    {
      "cell_type": "markdown",
      "source": [
        "# **05_subtract_7**"
      ],
      "metadata": {
        "id": "yy0_7o4MJW9L"
      }
    },
    {
      "cell_type": "code",
      "source": [
        "def subtract_seven(num):\n",
        "    num = num - 7\n",
        "    return num\n",
        "\n",
        "def main():\n",
        "    num = 7\n",
        "    number = subtract_seven(num)\n",
        "    print(\"This should be zero: \", number)\n",
        "\n",
        "main()"
      ],
      "metadata": {
        "colab": {
          "base_uri": "https://localhost:8080/"
        },
        "id": "CgDDgr5QJ2Aa",
        "outputId": "f9d0e524-5d5c-412d-846c-2e14eb66ee68"
      },
      "execution_count": 2,
      "outputs": [
        {
          "output_type": "stream",
          "name": "stdout",
          "text": [
            "This should be zero:  0\n"
          ]
        }
      ]
    }
  ]
}