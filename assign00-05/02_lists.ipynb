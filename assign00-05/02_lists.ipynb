{
  "nbformat": 4,
  "nbformat_minor": 0,
  "metadata": {
    "colab": {
      "provenance": []
    },
    "kernelspec": {
      "name": "python3",
      "display_name": "Python 3"
    },
    "language_info": {
      "name": "python"
    }
  },
  "cells": [
    {
      "cell_type": "markdown",
      "source": [
        "# **01_add_many_number**"
      ],
      "metadata": {
        "id": "uzXVEu7dnucl"
      }
    },
    {
      "cell_type": "code",
      "execution_count": 1,
      "metadata": {
        "colab": {
          "base_uri": "https://localhost:8080/"
        },
        "id": "1elZAhQSnqCV",
        "outputId": "d70d3d3b-2b98-4f4f-d78a-cce4fce40083"
      },
      "outputs": [
        {
          "output_type": "stream",
          "name": "stdout",
          "text": [
            "The sum of [1, 2, 3, 4, 5] is: 15\n"
          ]
        }
      ],
      "source": [
        "def sum_of_numbers(numbers: list[int]) -> int:\n",
        "\n",
        "    return sum(numbers)\n",
        "\n",
        "nums = [1, 2, 3, 4, 5]\n",
        "result = sum_of_numbers(nums)\n",
        "\n",
        "print(f\"The sum of {nums} is: {result}\")\n"
      ]
    },
    {
      "cell_type": "markdown",
      "source": [
        "# **02_double_list**"
      ],
      "metadata": {
        "id": "tHxCcPkbowj9"
      }
    },
    {
      "cell_type": "code",
      "source": [
        "def main():\n",
        "    numbers: list[int] = [1, 2, 3, 4]\n",
        "\n",
        "    for i in range(len(numbers)):\n",
        "        numbers[i] = numbers[i] * 2\n",
        "    print(numbers)\n",
        "\n",
        "if __name__ == '__main__':\n",
        "    main()\n"
      ],
      "metadata": {
        "colab": {
          "base_uri": "https://localhost:8080/"
        },
        "id": "h0KIL73hoyks",
        "outputId": "5e895201-34b5-4098-ca6d-dfa4ba06b1cc"
      },
      "execution_count": 2,
      "outputs": [
        {
          "output_type": "stream",
          "name": "stdout",
          "text": [
            "[2, 4, 6, 8]\n"
          ]
        }
      ]
    },
    {
      "cell_type": "markdown",
      "source": [
        "# **03_erase_canvas**"
      ],
      "metadata": {
        "id": "ZUXzs_IEpNgs"
      }
    },
    {
      "cell_type": "code",
      "source": [
        " #I didn't fully understand the 'eraser on canvas' topic"
      ],
      "metadata": {
        "id": "1qkkrqBppPlc"
      },
      "execution_count": null,
      "outputs": []
    },
    {
      "cell_type": "markdown",
      "source": [
        "# **04_flowing_with_data_structures**"
      ],
      "metadata": {
        "id": "TmI4Cax6p1AN"
      }
    },
    {
      "cell_type": "code",
      "source": [
        "def add_three_copies(list, data):\n",
        "\n",
        "    for _ in range(3):\n",
        "        list.append(data)\n",
        "\n",
        "def main():\n",
        "    message = input(\"Enter a message to copy: \")\n",
        "    list = []\n",
        "    print(\"List before:\", list)\n",
        "\n",
        "    add_three_copies(list, message)\n",
        "\n",
        "    print(\"List after:\", list)\n",
        "\n",
        "if __name__ == '__main__':\n",
        "    main()"
      ],
      "metadata": {
        "colab": {
          "base_uri": "https://localhost:8080/"
        },
        "id": "lLVoUlKLp2v9",
        "outputId": "e70e470d-6b20-41fe-d9e7-11ca4a2caa99"
      },
      "execution_count": 3,
      "outputs": [
        {
          "output_type": "stream",
          "name": "stdout",
          "text": [
            "Enter a message to copy: Assalamualaikum\n",
            "List before: []\n",
            "List after: ['Assalamualaikum', 'Assalamualaikum', 'Assalamualaikum']\n"
          ]
        }
      ]
    },
    {
      "cell_type": "markdown",
      "source": [
        "# **05_get_first_element**"
      ],
      "metadata": {
        "id": "m3HdCTXvrjjl"
      }
    },
    {
      "cell_type": "code",
      "source": [
        "def get_first_element(list):\n",
        "    print(list[0])\n",
        "\n",
        "\n",
        "user_list = []\n",
        "\n",
        "user_input = int(input(\"Please enter an element of the list \"))\n",
        "\n",
        "for i in range(user_input):\n",
        "\n",
        "    element = input(f\"Element {i + 1} \")\n",
        "    user_list.append(element)\n",
        "\n",
        "print(\"Main List:\", user_list)\n",
        "\n",
        "get_first_element(user_list)"
      ],
      "metadata": {
        "colab": {
          "base_uri": "https://localhost:8080/"
        },
        "id": "oJaTbS1Xrnz2",
        "outputId": "62163e01-12cc-4831-832e-bf5fc05ed3a3"
      },
      "execution_count": 7,
      "outputs": [
        {
          "output_type": "stream",
          "name": "stdout",
          "text": [
            "Please enter an element of the list 7\n",
            "Element 1 2\n",
            "Element 2 6\n",
            "Element 3 10\n",
            "Element 4 14\n",
            "Element 5 18\n",
            "Element 6 22\n",
            "Element 7 26\n",
            "Main List: ['2', '6', '10', '14', '18', '22', '26']\n",
            "2\n"
          ]
        }
      ]
    },
    {
      "cell_type": "markdown",
      "source": [
        "# **06_get_last_element**"
      ],
      "metadata": {
        "id": "RKoytembsQsu"
      }
    },
    {
      "cell_type": "code",
      "source": [
        "def get_last_element(list):\n",
        "    print(list[-1])\n",
        "\n",
        "\n",
        "user_list = []\n",
        "\n",
        "user_input = int(input(\"Kitne Elements Add karne hai list may: \"))\n",
        "\n",
        "for i in range(user_input):\n",
        "\n",
        "    element = input(f\"Element {i + 1} Likho\")\n",
        "    user_list.append(element)\n",
        "\n",
        "print(\"Main List:\", user_list)\n",
        "\n",
        "get_last_element(user_list)"
      ],
      "metadata": {
        "colab": {
          "base_uri": "https://localhost:8080/"
        },
        "id": "1r3N95C-sSi1",
        "outputId": "d17891e0-982b-4eb6-f8a1-fa4fada7bd23"
      },
      "execution_count": 8,
      "outputs": [
        {
          "output_type": "stream",
          "name": "stdout",
          "text": [
            "Kitne Elements Add karne hai list may: 5\n",
            "Element 1 LikhoA\n",
            "Element 2 LikhoB\n",
            "Element 3 LikhoC\n",
            "Element 4 LikhoD\n",
            "Element 5 LikhoE\n",
            "Main List: ['A', 'B', 'C', 'D', 'E']\n",
            "E\n"
          ]
        }
      ]
    },
    {
      "cell_type": "markdown",
      "source": [
        "# **07_get_list**"
      ],
      "metadata": {
        "id": "0la9KNg1s6wW"
      }
    },
    {
      "cell_type": "code",
      "source": [
        "def main():\n",
        "    list = []\n",
        "\n",
        "    val = input(\"Enter a value: \")\n",
        "\n",
        "    while val:\n",
        "        list.append(val)\n",
        "        val = input(\"Enter a value: \")\n",
        "\n",
        "    print(\"Here's the list:\", list)\n",
        "\n",
        "\n",
        "if __name__ == '__main__':\n",
        "    main()\n"
      ],
      "metadata": {
        "colab": {
          "base_uri": "https://localhost:8080/"
        },
        "id": "AvNR2HLauLF3",
        "outputId": "5f957099-3554-41ba-e99f-bccf25de0e2c"
      },
      "execution_count": 10,
      "outputs": [
        {
          "output_type": "stream",
          "name": "stdout",
          "text": [
            "Enter a value: 4\n",
            "Enter a value: 3\n",
            "Enter a value: 2\n",
            "Enter a value: 1\n",
            "Enter a value: 0\n",
            "Enter a value: \n",
            "Here's the list: ['4', '3', '2', '1', '0']\n"
          ]
        }
      ]
    },
    {
      "cell_type": "markdown",
      "source": [
        "# **08_shorten**"
      ],
      "metadata": {
        "id": "echQMuSRuicn"
      }
    },
    {
      "cell_type": "code",
      "source": [
        "MAX_LENGTH = 3\n",
        "\n",
        "def shorten(lst):\n",
        "\n",
        "    while len(lst) > MAX_LENGTH:\n",
        "        removed_element = lst.pop()\n",
        "        print(f\"Removed Element: {removed_element}\")\n",
        "\n",
        "def user_input():\n",
        "\n",
        "    user_list = []\n",
        "\n",
        "    num_elements = int(input(\"Please enter an element of the list \"))\n",
        "\n",
        "    for i in range(num_elements):\n",
        "        element = input(f\"Element {i + 1} \")\n",
        "        user_list.append(element)\n",
        "\n",
        "    return user_list\n",
        "\n",
        "def main():\n",
        "    user_list = user_input()\n",
        "\n",
        "    print(f\"\\nList before shortening: {user_list}\")\n",
        "    shorten(user_list)\n",
        "    print(f\"List after shortening: {user_list}\")\n",
        "\n",
        "\n",
        "if __name__ == '__main__':\n",
        "    main()\n"
      ],
      "metadata": {
        "colab": {
          "base_uri": "https://localhost:8080/"
        },
        "id": "yHfPsC7rukIG",
        "outputId": "5ae7cbaf-971b-4592-82af-279bd21909ab"
      },
      "execution_count": 14,
      "outputs": [
        {
          "output_type": "stream",
          "name": "stdout",
          "text": [
            "Please enter an element of the list 5\n",
            "Element 1 1\n",
            "Element 2 2\n",
            "Element 3 3\n",
            "Element 4 4\n",
            "Element 5 5\n",
            "\n",
            "List before shortening: ['1', '2', '3', '4', '5']\n",
            "Removed Element: 5\n",
            "Removed Element: 4\n",
            "List after shortening: ['1', '2', '3']\n"
          ]
        }
      ]
    }
  ]
}