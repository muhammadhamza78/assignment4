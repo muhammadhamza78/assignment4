{
  "nbformat": 4,
  "nbformat_minor": 0,
  "metadata": {
    "colab": {
      "provenance": []
    },
    "kernelspec": {
      "name": "python3",
      "display_name": "Python 3"
    },
    "language_info": {
      "name": "python"
    }
  },
  "cells": [
    {
      "cell_type": "markdown",
      "source": [
        "# **00_guess_my_number**"
      ],
      "metadata": {
        "id": "opcEXyu__Qj0"
      }
    },
    {
      "cell_type": "code",
      "source": [
        "import random\n",
        "\n",
        "def main():\n",
        "    number_to_guess = random.randint(0, 99)\n",
        "\n",
        "    while True:\n",
        "\n",
        "        guess = int(input(\"Enter a guess: \"))\n",
        "\n",
        "        if guess > number_to_guess:\n",
        "            print(\"Your guess is too high\")\n",
        "        elif guess < number_to_guess:\n",
        "            print(\"Your guess is too low\")\n",
        "        else:\n",
        "            print(f\"Congrats! The number was: {number_to_guess}\")\n",
        "            break\n",
        "\n",
        "if __name__ == '__main__':\n",
        "    main()\n"
      ],
      "metadata": {
        "colab": {
          "base_uri": "https://localhost:8080/"
        },
        "id": "5bjE9Bai_Tvj",
        "outputId": "aad9d3cf-b2fa-4128-a5b4-45a71cca5549"
      },
      "execution_count": 4,
      "outputs": [
        {
          "output_type": "stream",
          "name": "stdout",
          "text": [
            "Enter a guess: 52\n",
            "Your guess is too low\n",
            "Enter a guess: 55\n",
            "Your guess is too low\n",
            "Enter a guess: 60\n",
            "Your guess is too low\n",
            "Enter a guess: 62\n",
            "Your guess is too low\n",
            "Enter a guess: 65\n",
            "Your guess is too low\n",
            "Enter a guess: 70\n",
            "Your guess is too low\n",
            "Enter a guess: 85\n",
            "Your guess is too low\n",
            "Enter a guess: 90\n",
            "Your guess is too low\n",
            "Enter a guess: 92\n",
            "Your guess is too low\n",
            "Enter a guess: 98\n",
            "Congrats! The number was: 98\n"
          ]
        }
      ]
    },
    {
      "cell_type": "markdown",
      "source": [
        "# **01_fibonacci**"
      ],
      "metadata": {
        "id": "CFShjO9cAQbj"
      }
    },
    {
      "cell_type": "code",
      "execution_count": 5,
      "metadata": {
        "colab": {
          "base_uri": "https://localhost:8080/"
        },
        "id": "7e45Cq9Z_F9h",
        "outputId": "94527b5d-2cab-4f67-8fdd-ce05df8ed7d7"
      },
      "outputs": [
        {
          "output_type": "stream",
          "name": "stdout",
          "text": [
            "0 1 1 2 3 5 8 13 21 34 55 89 144 233 377 610 987 1597 2584 4181 6765 \n"
          ]
        }
      ],
      "source": [
        "def main():\n",
        "    MAX_VALUE = 10000\n",
        "    fib0, fib1 = 0, 1\n",
        "\n",
        "    print(fib0, fib1, end=\" \")\n",
        "\n",
        "    while True:\n",
        "        next_fib = fib0 + fib1\n",
        "        if next_fib >= MAX_VALUE:\n",
        "            break\n",
        "        print(next_fib, end=\" \")\n",
        "        fib0, fib1 = fib1, next_fib\n",
        "\n",
        "    print()\n",
        "if __name__ == '__main__':\n",
        "    main()\n"
      ]
    },
    {
      "cell_type": "markdown",
      "source": [
        "# **02_print_events**"
      ],
      "metadata": {
        "id": "dS03yR66Afer"
      }
    },
    {
      "cell_type": "code",
      "source": [
        "for i in range(20):\n",
        "    print(i * 2 , end=\", \")"
      ],
      "metadata": {
        "colab": {
          "base_uri": "https://localhost:8080/"
        },
        "id": "v2dXdr0eAhDi",
        "outputId": "6ba7b306-d745-4966-fda2-df8a9562b3e9"
      },
      "execution_count": 6,
      "outputs": [
        {
          "output_type": "stream",
          "name": "stdout",
          "text": [
            "0, 2, 4, 6, 8, 10, 12, 14, 16, 18, 20, 22, 24, 26, 28, 30, 32, 34, 36, 38, "
          ]
        }
      ]
    },
    {
      "cell_type": "markdown",
      "source": [
        "# **03_wholesome_machine**"
      ],
      "metadata": {
        "id": "t63CytX1Arai"
      }
    },
    {
      "cell_type": "code",
      "source": [
        "def main():\n",
        "    affirmation = \"I am capable of doing anything I put my mind to.\"\n",
        "\n",
        "    while True:\n",
        "        user_input = input(\"Please type the following affirmation: \")\n",
        "\n",
        "        if user_input == affirmation:\n",
        "            print(\"That's right! :)\")\n",
        "            break\n",
        "        else:\n",
        "            print(\"Hmmm That was not the affirmation. Please try again.\")\n",
        "\n",
        "if __name__ == '__main__':\n",
        "    main()\n"
      ],
      "metadata": {
        "colab": {
          "base_uri": "https://localhost:8080/"
        },
        "id": "cbsA8hF0AtIy",
        "outputId": "6f652e08-400d-4a8a-fe0b-8f9124051483"
      },
      "execution_count": 7,
      "outputs": [
        {
          "output_type": "stream",
          "name": "stdout",
          "text": [
            "Please type the following affirmation: I am capable of doing anything I put my mind to.\n",
            "That's right! :)\n"
          ]
        }
      ]
    },
    {
      "cell_type": "markdown",
      "source": [
        "# **04_liftoff**"
      ],
      "metadata": {
        "id": "ikZz6TXrBD5q"
      }
    },
    {
      "cell_type": "code",
      "source": [
        "for i in range(10 , 0 , -1):\n",
        "\n",
        "    print(i, end=\", \")\n",
        "\n",
        "print(\"Rocket Launched\")"
      ],
      "metadata": {
        "colab": {
          "base_uri": "https://localhost:8080/"
        },
        "id": "xgGqjF0iBFwC",
        "outputId": "96cbec60-de29-4d95-eceb-f41807bf30b3"
      },
      "execution_count": 8,
      "outputs": [
        {
          "output_type": "stream",
          "name": "stdout",
          "text": [
            "10, 9, 8, 7, 6, 5, 4, 3, 2, 1, Rocket Launched\n"
          ]
        }
      ]
    },
    {
      "cell_type": "markdown",
      "source": [
        "# **05_double_it**"
      ],
      "metadata": {
        "id": "dtxYVLb-BLo6"
      }
    },
    {
      "cell_type": "code",
      "source": [
        "user_input = int(input(\"Enter a number to be double: \"))\n",
        "\n",
        "\n",
        "while user_input < 100:\n",
        "\n",
        "    user_input = user_input * 2\n",
        "    print(user_input, end=\", \")"
      ],
      "metadata": {
        "colab": {
          "base_uri": "https://localhost:8080/"
        },
        "id": "BvJ2nR1DBOmy",
        "outputId": "b4c8ffc3-ac42-420b-83fd-96407f65df8c"
      },
      "execution_count": 9,
      "outputs": [
        {
          "output_type": "stream",
          "name": "stdout",
          "text": [
            "Enter a number to be double: 10\n",
            "20, 40, 80, 160, "
          ]
        }
      ]
    }
  ]
}