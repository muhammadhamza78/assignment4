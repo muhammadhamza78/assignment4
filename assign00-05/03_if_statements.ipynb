{
  "nbformat": 4,
  "nbformat_minor": 0,
  "metadata": {
    "colab": {
      "provenance": []
    },
    "kernelspec": {
      "name": "python3",
      "display_name": "Python 3"
    },
    "language_info": {
      "name": "python"
    }
  },
  "cells": [
    {
      "cell_type": "markdown",
      "source": [
        "# **01_print_events**"
      ],
      "metadata": {
        "id": "EPkVyAQE2BXd"
      }
    },
    {
      "cell_type": "code",
      "execution_count": 1,
      "metadata": {
        "colab": {
          "base_uri": "https://localhost:8080/"
        },
        "id": "wyshXaL-1drX",
        "outputId": "9b7ed507-7c46-432e-8b65-750fd2c278a3"
      },
      "outputs": [
        {
          "output_type": "stream",
          "name": "stdout",
          "text": [
            "0 2 4 6 8 10 12 14 16 18 20 22 24 26 28 30 32 34 36 38 "
          ]
        }
      ],
      "source": [
        "def main():\n",
        "    for i in range(20):\n",
        "        print(i * 2, end=' ')\n",
        "\n",
        "if __name__ == '__main__':\n",
        "    main()"
      ]
    },
    {
      "cell_type": "markdown",
      "source": [
        "# **02_international_voting_age**"
      ],
      "metadata": {
        "id": "2HGgWUKL3I38"
      }
    },
    {
      "cell_type": "code",
      "source": [
        "PETURKSBOUIPO_AGE : int = 16\n",
        "STANLAU_AGE : int = 25\n",
        "MAYENGUA_AGE : int = 48\n",
        "\n",
        "user_age = int(input(\"What is your age in numbers: \"))\n",
        "\n",
        "if user_age >= PETURKSBOUIPO_AGE:\n",
        "    print(\"You can vote in Peturks\")\n",
        "else:\n",
        "    print(\"You cannot vote in Peturks because your is less for government data\")\n",
        "\n",
        "if user_age >= STANLAU_AGE:\n",
        "    print(\"You can vote in Stanlau\")\n",
        "else:\n",
        "    print(\"You cannot vote in Stanlau because your is less for government data\")\n",
        "\n",
        "if user_age >= MAYENGUA_AGE:\n",
        "    print(\"You can vote in Mayengua\")\n",
        "else:\n",
        "    print(\"You cannot vote in Mayengua because your is less for government data\")\n",
        ""
      ],
      "metadata": {
        "colab": {
          "base_uri": "https://localhost:8080/"
        },
        "id": "YvcVqxVk3KtD",
        "outputId": "a3e79fdb-dabe-4630-dc00-1d93830ac2c5"
      },
      "execution_count": 3,
      "outputs": [
        {
          "output_type": "stream",
          "name": "stdout",
          "text": [
            "What is your age in numbers: 25\n",
            "You can vote in Peturks\n",
            "You can vote in Stanlau\n",
            "You cannot vote in Mayengua because your is less for government data\n"
          ]
        }
      ]
    },
    {
      "cell_type": "markdown",
      "source": [
        "# **03_leap_year**"
      ],
      "metadata": {
        "id": "QPwEOfDi3wED"
      }
    },
    {
      "cell_type": "code",
      "source": [
        "def main():\n",
        "    year = int(input(\"Please input a year: \"))\n",
        "\n",
        "\n",
        "    if year % 4 == 0:\n",
        "        if year % 100 == 0:\n",
        "            if year % 400 == 0:\n",
        "                print(\"That's a leap year!\")\n",
        "            else:\n",
        "                print(\"That's not a leap year.\")\n",
        "        else:\n",
        "            print(\"That's a leap year!\")\n",
        "    else:\n",
        "        print(\"That's not a leap year.\")\n",
        "\n",
        "if __name__ == '__main__':\n",
        "    main()\n"
      ],
      "metadata": {
        "colab": {
          "base_uri": "https://localhost:8080/"
        },
        "id": "A6lmn0aA3ySq",
        "outputId": "a5d68997-8dd9-4c7e-fae8-f938f3d280a3"
      },
      "execution_count": 4,
      "outputs": [
        {
          "output_type": "stream",
          "name": "stdout",
          "text": [
            "Please input a year: 2028\n",
            "That's a leap year!\n"
          ]
        }
      ]
    },
    {
      "cell_type": "markdown",
      "source": [
        "# **04_tall_enough_to_ride**"
      ],
      "metadata": {
        "id": "9MCyKjFK4PF8"
      }
    },
    {
      "cell_type": "code",
      "source": [
        "MAX_HEIGHT = 50\n",
        "\n",
        "\n",
        "def main():\n",
        "    height = float(input(\"How tall are you? \"))\n",
        "    if height >= MAX_HEIGHT:\n",
        "        print(\"You're tall enough to ride!\")\n",
        "    else:\n",
        "        print(\"You're not tall enough to ride, but maybe next year!\")\n",
        "\n",
        "\n",
        "if __name__ == '__main__':\n",
        "    main()\n",
        "\n",
        "\n",
        "\n",
        "\n"
      ],
      "metadata": {
        "colab": {
          "base_uri": "https://localhost:8080/"
        },
        "id": "yFBhrv8c4QrS",
        "outputId": "69b3ccd2-a060-42c4-bed6-def7793fc314"
      },
      "execution_count": 11,
      "outputs": [
        {
          "output_type": "stream",
          "name": "stdout",
          "text": [
            "How tall are you? 50\n",
            "You're tall enough to ride!\n"
          ]
        }
      ]
    },
    {
      "cell_type": "markdown",
      "source": [
        "# **05_random_numbers**"
      ],
      "metadata": {
        "id": "llJgSyvG5DVp"
      }
    },
    {
      "cell_type": "code",
      "source": [
        "import random\n",
        "\n",
        "def main():\n",
        "    for _ in range(10):\n",
        "        value = random.randint(1, 100)\n",
        "        print(value, end=' ')\n",
        "    print()\n",
        "if __name__ == '__main__':\n",
        "    main()\n"
      ],
      "metadata": {
        "colab": {
          "base_uri": "https://localhost:8080/"
        },
        "id": "x67s5BC_5QNB",
        "outputId": "b944defa-9ef9-49cb-daaa-41d364f88bc1"
      },
      "execution_count": 12,
      "outputs": [
        {
          "output_type": "stream",
          "name": "stdout",
          "text": [
            "74 75 72 79 35 70 9 52 75 53 \n"
          ]
        }
      ]
    }
  ]
}