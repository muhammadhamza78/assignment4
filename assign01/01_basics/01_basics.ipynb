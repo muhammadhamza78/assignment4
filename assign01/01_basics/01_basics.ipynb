{
  "nbformat": 4,
  "nbformat_minor": 0,
  "metadata": {
    "colab": {
      "provenance": []
    },
    "kernelspec": {
      "name": "python3",
      "display_name": "Python 3"
    },
    "language_info": {
      "name": "python"
    }
  },
  "cells": [
    {
      "cell_type": "markdown",
      "source": [
        "# **00_joke_bot**"
      ],
      "metadata": {
        "id": "XiIc0yKnNipo"
      }
    },
    {
      "cell_type": "code",
      "execution_count": 6,
      "metadata": {
        "colab": {
          "base_uri": "https://localhost:8080/"
        },
        "id": "-zYJzQ9uNb2B",
        "outputId": "b54f2e45-a9c4-4b56-a54e-dfa9f883edd7"
      },
      "outputs": [
        {
          "output_type": "stream",
          "name": "stdout",
          "text": [
            "What do you want?joke\n",
            "Here is a joke for you! Sophia is heading out to the grocery store. A programmer tells her: get a liter of milk, and if they have eggs, get 12. Sophia returns with 13 liters of milk. The programmer asks why and Sophia replies: 'because they had eggs'\n"
          ]
        }
      ],
      "source": [
        "PROMPT = \"What do you want?\"\n",
        "JOKE = \"Here is a joke for you! Sophia is heading out to the grocery store. A programmer tells her: get a liter of milk, and if they have eggs, get 12. Sophia returns with 13 liters of milk. The programmer asks why and Sophia replies: 'because they had eggs'\"\n",
        "SORRY = \"Sorry I only tell jokes.\"\n",
        "\n",
        "def main():\n",
        "    user_input = input(PROMPT)\n",
        "    _input = user_input.strip().lower()\n",
        "\n",
        "    if _input == 'joke':\n",
        "        print(JOKE)\n",
        "    else:\n",
        "        print(SORRY)\n",
        "\n",
        "main()\n"
      ]
    },
    {
      "cell_type": "markdown",
      "source": [
        "# **01_double_it**"
      ],
      "metadata": {
        "id": "PxkhYXzDOyCe"
      }
    },
    {
      "cell_type": "code",
      "source": [
        "def main():\n",
        "\n",
        "    curr_value = int(input(\"Enter a number: \"))\n",
        "\n",
        "    while curr_value < 100:\n",
        "        print(curr_value, end=\" \")\n",
        "        curr_value = curr_value * 2\n",
        "\n",
        "    print(curr_value)\n",
        "2\n",
        "if __name__ == '__main__':\n",
        "    main()\n"
      ],
      "metadata": {
        "colab": {
          "base_uri": "https://localhost:8080/"
        },
        "id": "ZeCR2fCFPFXP",
        "outputId": "656999b1-75b8-4dd8-8e13-c904467931f9"
      },
      "execution_count": 7,
      "outputs": [
        {
          "output_type": "stream",
          "name": "stdout",
          "text": [
            "Enter a number: 2\n",
            "2 4 8 16 32 64 128\n"
          ]
        }
      ]
    },
    {
      "cell_type": "markdown",
      "source": [
        "# **02_liftoff**"
      ],
      "metadata": {
        "id": "PgVwywDKOybG"
      }
    },
    {
      "cell_type": "code",
      "source": [
        "def main():\n",
        "\n",
        "    for i in range(10, 0, -1):\n",
        "        print(i, end=\" \")\n",
        "    print(\"Liftoff!\")\n",
        "if __name__ == '__main__':\n",
        "    main()\n"
      ],
      "metadata": {
        "colab": {
          "base_uri": "https://localhost:8080/"
        },
        "id": "hwwg2FErPF-1",
        "outputId": "ef26e429-f409-4029-e841-9f990c09b122"
      },
      "execution_count": 8,
      "outputs": [
        {
          "output_type": "stream",
          "name": "stdout",
          "text": [
            "10 9 8 7 6 5 4 3 2 1 Liftoff!\n"
          ]
        }
      ]
    },
    {
      "cell_type": "markdown",
      "source": [
        "# **03_guess_my_number**"
      ],
      "metadata": {
        "id": "aMxpZpuXOyyV"
      }
    },
    {
      "cell_type": "code",
      "source": [
        "import random\n",
        "\n",
        "def main():\n",
        "\n",
        "    secret_number = random.randint(0, 99)\n",
        "\n",
        "    print(\"I am thinking of a number between 0 and 99...\")\n",
        "\n",
        "\n",
        "    guess = None\n",
        "\n",
        "\n",
        "    while guess != secret_number:\n",
        "\n",
        "        guess = int(input(\"Enter a guess: \"))\n",
        "\n",
        "\n",
        "        if guess > secret_number:\n",
        "            print(\"Your guess is too high\")\n",
        "        elif guess < secret_number:\n",
        "            print(\"Your guess is too low\")\n",
        "        else:\n",
        "            print(f\"Congrats! The number was: {secret_number}\")\n",
        "\n",
        "if __name__ == '__main__':\n",
        "    main()\n"
      ],
      "metadata": {
        "colab": {
          "base_uri": "https://localhost:8080/"
        },
        "id": "7C3fjJxJPGh1",
        "outputId": "0308c1c8-3ff0-49ab-bc21-8eaf334e90e2"
      },
      "execution_count": 9,
      "outputs": [
        {
          "output_type": "stream",
          "name": "stdout",
          "text": [
            "I am thinking of a number between 0 and 99...\n",
            "Enter a guess: 55\n",
            "Your guess is too low\n",
            "Enter a guess: 80\n",
            "Your guess is too high\n",
            "Enter a guess: 70\n",
            "Your guess is too high\n",
            "Enter a guess: 60\n",
            "Your guess is too low\n",
            "Enter a guess: 65\n",
            "Your guess is too high\n",
            "Enter a guess: 63\n",
            "Your guess is too low\n",
            "Enter a guess: 67\n",
            "Your guess is too high\n",
            "Enter a guess: 64\n",
            "Congrats! The number was: 64\n"
          ]
        }
      ]
    },
    {
      "cell_type": "markdown",
      "source": [
        "# **04_random_numbers**"
      ],
      "metadata": {
        "id": "t_aTzeXzOzBV"
      }
    },
    {
      "cell_type": "code",
      "source": [
        "import random\n",
        "\n",
        "def main():\n",
        "\n",
        "    for _ in range(10):\n",
        "        print(random.randint(1, 100), end=\" \")\n",
        "\n",
        "if __name__ == '__main__':\n",
        "    main()\n"
      ],
      "metadata": {
        "colab": {
          "base_uri": "https://localhost:8080/"
        },
        "id": "yJ35kMzyPG3N",
        "outputId": "ffdf75cc-f3d0-4aa5-a3e9-1ef5557372f2"
      },
      "execution_count": 10,
      "outputs": [
        {
          "output_type": "stream",
          "name": "stdout",
          "text": [
            "62 67 16 73 19 10 27 62 36 4 "
          ]
        }
      ]
    }
  ]
}