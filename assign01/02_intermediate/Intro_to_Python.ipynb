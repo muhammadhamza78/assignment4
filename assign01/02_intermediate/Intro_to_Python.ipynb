{
  "nbformat": 4,
  "nbformat_minor": 0,
  "metadata": {
    "colab": {
      "provenance": []
    },
    "kernelspec": {
      "name": "python3",
      "display_name": "Python 3"
    },
    "language_info": {
      "name": "python"
    }
  },
  "cells": [
    {
      "cell_type": "markdown",
      "source": [
        "# **Milestone #1: Mars Weight**"
      ],
      "metadata": {
        "id": "7feKjY24SKRV"
      }
    },
    {
      "cell_type": "code",
      "source": [
        "def main():\n",
        "\n",
        "    earth_weight = float(input(\"Enter a weight on Earth: \"))\n",
        "\n",
        "    mars_weight = earth_weight * 0.378\n",
        "\n",
        "    print(f\"The equivalent on Mars: {round(mars_weight, 2)}\")\n",
        "\n",
        "if __name__ == \"__main__\":\n",
        "    main()\n"
      ],
      "metadata": {
        "colab": {
          "base_uri": "https://localhost:8080/"
        },
        "id": "DBFxQy13SNij",
        "outputId": "644cc476-1037-4368-d5d1-5034c6847f3d"
      },
      "execution_count": 1,
      "outputs": [
        {
          "output_type": "stream",
          "name": "stdout",
          "text": [
            "Enter a weight on Earth: 100\n",
            "The equivalent on Mars: 37.8\n"
          ]
        }
      ]
    },
    {
      "cell_type": "markdown",
      "source": [
        "# **Milestone #2: Adding All Planets**"
      ],
      "metadata": {
        "id": "we2s1pG5Saj7"
      }
    },
    {
      "cell_type": "code",
      "source": [
        "def main():\n",
        "\n",
        "    planet_gravities = {\n",
        "        \"Mercury\": 0.376,\n",
        "        \"Venus\": 0.889,\n",
        "        \"Mars\": 0.378,\n",
        "        \"Jupiter\": 2.36,\n",
        "        \"Saturn\": 1.081,\n",
        "        \"Uranus\": 0.815,\n",
        "        \"Neptune\": 1.14\n",
        "    }\n",
        "\n",
        "\n",
        "    earth_weight = float(input(\"Enter a weight on Earth: \"))\n",
        "\n",
        "    planet = input(\"Enter a planet: \").capitalize()\n",
        "\n",
        "\n",
        "    if planet in planet_gravities:\n",
        "\n",
        "        planet_weight = earth_weight * planet_gravities[planet]\n",
        "\n",
        "        print(f\"The equivalent weight on {planet}: {round(planet_weight, 2)}\")\n",
        "    else:\n",
        "        print(\"Invalid planet name. Please enter a valid planet from the solar system.\")\n",
        "\n",
        "if __name__ == \"__main__\":\n",
        "    main()\n"
      ],
      "metadata": {
        "colab": {
          "base_uri": "https://localhost:8080/"
        },
        "id": "7sJpkPfgScFy",
        "outputId": "c7aa7bb3-78d6-4cba-c27a-6caf87d5fdde"
      },
      "execution_count": 3,
      "outputs": [
        {
          "output_type": "stream",
          "name": "stdout",
          "text": [
            "Enter a weight on Earth: 2000\n",
            "Enter a planet: Mercury\n",
            "The equivalent weight on Mercury: 752.0\n"
          ]
        }
      ]
    }
  ]
}