{
  "nbformat": 4,
  "nbformat_minor": 0,
  "metadata": {
    "colab": {
      "provenance": []
    },
    "kernelspec": {
      "name": "python3",
      "display_name": "Python 3"
    },
    "language_info": {
      "name": "python"
    }
  },
  "cells": [
    {
      "cell_type": "markdown",
      "source": [
        "# **handout**"
      ],
      "metadata": {
        "id": "Mab-vbe_Qh1l"
      }
    },
    {
      "cell_type": "code",
      "source": [
        "import random\n",
        "\n",
        "# Constant for the number of rounds\n",
        "NUM_ROUNDS = 5\n",
        "\n",
        "def play_round(round_number):\n",
        "    # Generate random numbers for the user and the computer\n",
        "    user_number = random.randint(1, 100)\n",
        "    computer_number = random.randint(1, 100)\n",
        "\n",
        "    # Print round info\n",
        "    print(f\"Round {round_number}\")\n",
        "    print(f\"Your number is {user_number}\")\n",
        "\n",
        "    # Get the user's guess (higher or lower)\n",
        "    guess = input(\"Do you think your number is higher or lower than the computer's?: \").strip().lower()\n",
        "\n",
        "    # Ensure the guess is valid\n",
        "    while guess not in [\"higher\", \"lower\"]:\n",
        "        print(\"Please enter either 'higher' or 'lower'.\")\n",
        "        guess = input(\"Do you think your number is higher or lower than the computer's?: \").strip().lower()\n",
        "\n",
        "    # Check if the user's guess is correct\n",
        "    if (guess == \"higher\" and user_number > computer_number) or (guess == \"lower\" and user_number < computer_number):\n",
        "        print(f\"You were right! The computer's number was {computer_number}\")\n",
        "        return 1\n",
        "    elif user_number == computer_number:\n",
        "        print(f\"Aww, that's incorrect. The computer's number was {computer_number}\")\n",
        "        return 0\n",
        "    else:\n",
        "        print(f\"Aww, that's incorrect. The computer's number was {computer_number}\")\n",
        "        return 0\n",
        "\n",
        "\n",
        "def main():\n",
        "    # Greet the player\n",
        "    print(\"Welcome to the High-Low Game!\")\n",
        "    print(\"--------------------------------\")\n",
        "\n",
        "    score = 0\n",
        "    for round_number in range(1, NUM_ROUNDS + 1):\n",
        "        score += play_round(round_number)\n",
        "        print(f\"Your score is now {score}\")\n",
        "        print()  # Empty line between rounds\n",
        "\n",
        "    # Final message based on performance\n",
        "    print(\"Thanks for playing!\")\n",
        "\n",
        "    if score == NUM_ROUNDS:\n",
        "        print(\"Wow! You played perfectly!\")\n",
        "    elif score >= NUM_ROUNDS // 2:\n",
        "        print(\"Good job, you played really well!\")\n",
        "    else:\n",
        "        print(\"Better luck next time!\")\n",
        "\n",
        "if __name__ == '__main__':\n",
        "    main()\n"
      ],
      "metadata": {
        "colab": {
          "base_uri": "https://localhost:8080/"
        },
        "id": "C--r7WahQ42T",
        "outputId": "d0ab93bd-5fc8-4f78-849e-18d50ed0c3dd"
      },
      "execution_count": 2,
      "outputs": [
        {
          "output_type": "stream",
          "name": "stdout",
          "text": [
            "Welcome to the High-Low Game!\n",
            "--------------------------------\n",
            "Round 1\n",
            "Your number is 20\n",
            "Do you think your number is higher or lower than the computer's?: lower\n",
            "Aww, that's incorrect. The computer's number was 5\n",
            "Your score is now 0\n",
            "\n",
            "Round 2\n",
            "Your number is 74\n",
            "Do you think your number is higher or lower than the computer's?: higher\n",
            "You were right! The computer's number was 23\n",
            "Your score is now 1\n",
            "\n",
            "Round 3\n",
            "Your number is 60\n",
            "Do you think your number is higher or lower than the computer's?: \n",
            "Please enter either 'higher' or 'lower'.\n",
            "Do you think your number is higher or lower than the computer's?: higher\n",
            "Aww, that's incorrect. The computer's number was 98\n",
            "Your score is now 1\n",
            "\n",
            "Round 4\n",
            "Your number is 41\n",
            "Do you think your number is higher or lower than the computer's?: lower\n",
            "You were right! The computer's number was 95\n",
            "Your score is now 2\n",
            "\n",
            "Round 5\n",
            "Your number is 53\n",
            "Do you think your number is higher or lower than the computer's?: lower\n",
            "Aww, that's incorrect. The computer's number was 18\n",
            "Your score is now 2\n",
            "\n",
            "Thanks for playing!\n",
            "Good job, you played really well!\n"
          ]
        }
      ]
    }
  ]
}