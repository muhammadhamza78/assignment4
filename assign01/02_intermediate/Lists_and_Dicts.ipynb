{
  "nbformat": 4,
  "nbformat_minor": 0,
  "metadata": {
    "colab": {
      "provenance": []
    },
    "kernelspec": {
      "name": "python3",
      "display_name": "Python 3"
    },
    "language_info": {
      "name": "python"
    }
  },
  "cells": [
    {
      "cell_type": "markdown",
      "source": [
        "# **Problem #1: List Practice**"
      ],
      "metadata": {
        "id": "KPEj5PxmTGcy"
      }
    },
    {
      "cell_type": "code",
      "source": [
        "def main():\n",
        "\n",
        "    fruit_list = ['apple', 'banana', 'orange', 'grape', 'pineapple']\n",
        "\n",
        "    print(f\"The Lenght of this list is: {len(fruit_list)}\\n\")\n",
        "\n",
        "    fruit_list.append('mango')\n",
        "    print(fruit_list)\n",
        "\n",
        "main()"
      ],
      "metadata": {
        "colab": {
          "base_uri": "https://localhost:8080/"
        },
        "id": "H_eUTAtTTILi",
        "outputId": "8c02c251-17e7-4061-889e-888adfe35ad9"
      },
      "execution_count": 3,
      "outputs": [
        {
          "output_type": "stream",
          "name": "stdout",
          "text": [
            "The Lenght of this list is: 5\n",
            "\n",
            "['apple', 'banana', 'orange', 'grape', 'pineapple', 'mango']\n"
          ]
        }
      ]
    },
    {
      "cell_type": "markdown",
      "source": [
        "# **Problem #2: Index Game**"
      ],
      "metadata": {
        "id": "jcn7HJagTq3i"
      }
    },
    {
      "cell_type": "code",
      "execution_count": 12,
      "metadata": {
        "colab": {
          "base_uri": "https://localhost:8080/"
        },
        "id": "FIMArOwSS3It",
        "outputId": "a2ea5273-c6cc-4688-fcac-0db28c1c290c"
      },
      "outputs": [
        {
          "output_type": "stream",
          "name": "stdout",
          "text": [
            "\n",
            "Current List: ['apple', 'banana', 'cherry', 'date', 'strawberry']\n",
            "Choose an operation: \n",
            "1 - Access an element\n",
            "2 - Modify an element\n",
            "3 - Slice the list\n",
            "4 - Exit\n",
            "Choose a number b/w (1-4)3\n",
            "Enter start index: 2\n",
            "Enter end index: 3\n",
            "Sliced List: ['cherry']\n",
            "\n",
            "Current List: ['apple', 'banana', 'cherry', 'date', 'strawberry']\n",
            "Choose an operation: \n",
            "1 - Access an element\n",
            "2 - Modify an element\n",
            "3 - Slice the list\n",
            "4 - Exit\n",
            "Choose a number b/w (1-4)4\n",
            "Game Over!\n"
          ]
        }
      ],
      "source": [
        "my_list = [\"apple\", \"banana\", \"cherry\", \"date\", \"strawberry\"]\n",
        "\n",
        "def access_element(list , index):\n",
        "    if 0 <= index < len(list):\n",
        "        return list[index]\n",
        "    else:\n",
        "        return \"Index Out of Range\"\n",
        "\n",
        "\n",
        "def modify_element(list , index, new_value):\n",
        "    if 0 <= index < len(list):\n",
        "        list[index] = new_value\n",
        "        return list\n",
        "    else:\n",
        "        return \"Index out of range\"\n",
        "\n",
        "\n",
        "def slice_list(list, start, end):\n",
        "    if 0 <= start < len(list) and 0 <= end <= len(list):\n",
        "        return list[start:end]\n",
        "    else:\n",
        "        return \"Invalid index range\"\n",
        "\n",
        "\n",
        "while True:\n",
        "    print(\"\\nCurrent List:\", my_list)\n",
        "    print(\"Choose an operation: \")\n",
        "    print(\"1 - Access an element\")\n",
        "    print(\"2 - Modify an element\")\n",
        "    print(\"3 - Slice the list\")\n",
        "    print(\"4 - Exit\")\n",
        "\n",
        "    users_choice = int(input(\"Choose a number b/w (1-4)\"))\n",
        "\n",
        "    if users_choice == 1:\n",
        "        idx = int(input(\"Enter an index to access list\"))\n",
        "        print(\"Element:\", access_element(my_list, idx))\n",
        "\n",
        "    elif users_choice == 2:\n",
        "        index = int(input(\"Enter an index to access list\"))\n",
        "        new_value = input(\"Enter new value: \")\n",
        "        print(\"Updated List:\", modify_element(my_list, idx, new_value))\n",
        "\n",
        "    elif users_choice == 3:\n",
        "        start = int(input(\"Enter start index: \"))\n",
        "        end = int(input(\"Enter end index: \"))\n",
        "        print(\"Sliced List:\", slice_list(my_list, start, end))\n",
        "\n",
        "    elif users_choice == 4:\n",
        "        print(\"Game Over!\")\n",
        "        break\n",
        "\n",
        "    else:\n",
        "        print(\"Invalid choice, try again!\")\n",
        "\n",
        ""
      ]
    }
  ]
}